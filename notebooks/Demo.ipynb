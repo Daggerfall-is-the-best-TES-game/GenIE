{
 "cells": [
  {
   "cell_type": "markdown",
   "id": "38109220",
   "metadata": {
    "pycharm": {
     "name": "#%% md\n"
    }
   },
   "source": [
    "# GenIE: Generative Information Extraction"
   ]
  },
  {
   "cell_type": "markdown",
   "id": "fd5b5af5",
   "metadata": {
    "pycharm": {
     "name": "#%% md\n"
    }
   },
   "source": [
    "---"
   ]
  },
  {
   "cell_type": "markdown",
   "id": "fbe61411",
   "metadata": {
    "pycharm": {
     "name": "#%% md\n"
    }
   },
   "source": [
    "---"
   ]
  },
  {
   "cell_type": "markdown",
   "id": "80fd4c2e",
   "metadata": {
    "pycharm": {
     "name": "#%% md\n"
    },
    "tags": []
   },
   "source": [
    "## Table of Content\n",
    "1. [How to download the required artefacts?](#Download)\n",
    "2. [How to load the models?](#Loading-the-Models)\n",
    "3. [How to run inference?](#Inference)\n",
    "    - [Unconstrained Generation](#Unconstrained-Generation)\n",
    "    - [Constrained Generation](#Constrainted-Generation)\n",
    "    - [Extracting the Wikidata Disambiguated Triplet Sets](#Extracting-the-Wikidata-Disambiguated-Triplet-Sets)\n",
    "4. [Loading models and running inference with Hydra](#Loading-Models-and-Running-Inference-with-Hydra)\n",
    "5. [How to load and use the datasets?](#Loading-Datasets)\n",
    "6. Optional\n",
    "    1. [How to constraint the model with a custom set of strings?](#Constructing-Prefix-Tries-for-A-Custom-Set-of-Strings) \n",
    "    2. [Loading and Using the WikidataID2Name Dictionaries](#Loading-and-Using-the-WikidataID2Name-Dictionaries)"
   ]
  },
  {
   "cell_type": "markdown",
   "id": "32ffc61b",
   "metadata": {
    "pycharm": {
     "name": "#%% md\n"
    }
   },
   "source": [
    "---"
   ]
  },
  {
   "cell_type": "markdown",
   "id": "c4705f92",
   "metadata": {
    "pycharm": {
     "name": "#%% md\n"
    },
    "tags": []
   },
   "source": [
    "## Download"
   ]
  },
  {
   "cell_type": "markdown",
   "id": "53959af1",
   "metadata": {
    "pycharm": {
     "name": "#%% md\n"
    }
   },
   "source": [
    "The data that we release consists of:\n",
    "\n",
    "1. **Pre-trained Model(s)**\n",
    "    - Wiki-NRE (W): [Random Initialization](https://zenodo.org/record/6139236/files/genie_w.ckpt)\n",
    "    - Rebel (R): [Random Initialization](https://zenodo.org/record/6139236/files/genie_r.ckpt) – [Pretrained Language Model](https://zenodo.org/record/6139236/files/genie_plm_r.ckpt) – [Pretrained Entity Linker (GENRE)](https://zenodo.org/record/6139236/files/genie_genre_r.ckpt)\n",
    "    - Rebel + Wiki-NRE (R+W): [Random Initialization](https://zenodo.org/record/6139236/files/genie_rw.ckpt)\n",
    "2. [**Prefix Trees (tries) for Constrained Generation**](https://zenodo.org/record/6139236/files/tries.zip)\n",
    "    - relation trie\n",
    "    - entity trie\n",
    "3. **Datasets** \\[Not required for inference\\] \n",
    "    - [Rebel](https://zenodo.org/record/6139236/files/rebel.zip)\n",
    "    - [FewRel](https://zenodo.org/record/6139236/files/fewrel.zip)\n",
    "    - [Wikipedia-NRE](https://zenodo.org/record/6139236/files/wikipedia_nre.zip)\n",
    "    - [Geo-NRE](https://zenodo.org/record/6139236/files/geo_nre.zip)\n",
    "4. [**World Definitions**](https://zenodo.org/record/6139236/files/world_definitions.zip) \\[Not required for inference\\] \n",
    "5. **Mapping between Unique Names and Wikidata Identifiers** ([used by GenIE](https://zenodo.org/record/6139236/files/surface_form_dicts.zip), [full snapshot](https://zenodo.org/record/6139236/files/surface_form_dicts_from_snapshot.zip)) \\[Optional. Necessary for processing data\\] \n",
    "    - relation name to wikidata ID (and vice-versa)\n",
    "    - entity name to wikidata ID (and vice-versa)"
   ]
  },
  {
   "cell_type": "markdown",
   "id": "b9a65623",
   "metadata": {
    "pycharm": {
     "name": "#%% md\n"
    }
   },
   "source": [
    "You can download the data by executing the <code>download_data.sh</code> script. If you want to omit some files, comment out parts of the code.\n",
    "\n",
    "Alternatively, you can access the data [here](https://zenodo.org/record/6139236#.YhJdiJPMJhH)."
   ]
  },
  {
   "cell_type": "code",
   "execution_count": 1,
   "id": "6f445d3e",
   "metadata": {
    "pycharm": {
     "name": "#%%\n"
    }
   },
   "outputs": [],
   "source": [
    "# If you are using a different directory for your data, update the path below\n",
    "DATA_DIR=\"../data\"\n",
    "\n",
    "# To download the data uncomment and run the following line\n",
    "#!bash ../download_data.sh $DATA_DIR\n",
    "\n",
    "# If your working directory is not the GenIE folder, include the path to it in your PATH variable to make the library available\n",
    "import os\n",
    "import sys\n",
    "\n",
    "sys.path.append(\"../\")"
   ]
  },
  {
   "cell_type": "markdown",
   "id": "cf49d5e2",
   "metadata": {
    "pycharm": {
     "name": "#%% md\n"
    },
    "tags": []
   },
   "source": [
    "# Loading the Models"
   ]
  },
  {
   "cell_type": "code",
   "execution_count": 2,
   "id": "2dc1d733",
   "metadata": {
    "pycharm": {
     "is_executing": true,
     "name": "#%%\n"
    }
   },
   "outputs": [],
   "source": [
    "\"\"\"Load the Model\"\"\"\n",
    "from genie.models import GeniePL\n",
    "\n",
    "ckpt_name = \"genie_genre_r.ckpt\"\n",
    "path_to_checkpoint = os.path.join(DATA_DIR, 'models', ckpt_name)\n",
    "model = GeniePL.load_from_checkpoint(checkpoint_path=path_to_checkpoint)"
   ]
  },
  {
   "cell_type": "code",
   "execution_count": 3,
   "id": "51612a72",
   "metadata": {
    "pycharm": {
     "name": "#%%\n"
    }
   },
   "outputs": [],
   "source": [
    "\"\"\"Load the Prefix Tries\"\"\"\n",
    "from genie.constrained_generation import Trie\n",
    "\n",
    "# Large schema tries (correspond to Rebel; see the paper for details) \n",
    "entity_trie_path = os.path.join(DATA_DIR, \"tries/large/entity_trie.pickle\")\n",
    "entity_trie = Trie.load(entity_trie_path)\n",
    "\n",
    "relation_trie_path = os.path.join(DATA_DIR, \"tries/large/relation_trie.pickle\")\n",
    "relation_trie = Trie.load(relation_trie_path)\n",
    "\n",
    "large_schema_tries = {'entity_trie': entity_trie, 'relation_trie': relation_trie}\n",
    "\n",
    "# Small schema tries (correspond to Wiki-NRE; see the paper for details) \n",
    "entity_trie_path = os.path.join(DATA_DIR, \"tries/small/entity_trie.pickle\")\n",
    "entity_trie = Trie.load(entity_trie_path)\n",
    "\n",
    "relation_trie_path = os.path.join(DATA_DIR, \"tries/small/relation_trie.pickle\")\n",
    "relation_trie = Trie.load(relation_trie_path)\n",
    "\n",
    "small_schema_tries = {'entity_trie': entity_trie, 'relation_trie': relation_trie}"
   ]
  },
  {
   "cell_type": "markdown",
   "id": "f773ebcb",
   "metadata": {
    "pycharm": {
     "name": "#%% md\n"
    }
   },
   "source": [
    "To construct a prefix trie for your custom set of strings see [this section](#Constructing-a-Prefix-Tries-for-A-Custom-Set-of-Strings)."
   ]
  },
  {
   "cell_type": "markdown",
   "id": "200ac36b",
   "metadata": {
    "pycharm": {
     "name": "#%% md\n"
    },
    "tags": []
   },
   "source": [
    "# Inference"
   ]
  },
  {
   "cell_type": "markdown",
   "id": "d4b90233",
   "metadata": {
    "pycharm": {
     "name": "#%% md\n"
    }
   },
   "source": [
    "For inference use the `model.sample` function. \n",
    "\n",
    "Under the hood, **GenIE** uses the HuggingFace's generate function, thus it accepts the same generation parameters. By default, during inference the same generation parameters used by the model during are employed – they are the model's default – but you can override them in the call of the function, as shown in the examples."
   ]
  },
  {
   "cell_type": "code",
   "execution_count": null,
   "outputs": [],
   "source": [
    "sentences = [\"Prior to KTRK, Carson was an anchor for FOX-owned KSAZ in Phoenix, Arizona.\"]\n",
    "sentences = [\"Since the omicron wave crested in January, multiple studies and datasets have demonstrated that the mRNA vaccines are not nearly as effective against this variant as they were against earlier variants or the original virus.\",\n",
    "             \"That loss of effectiveness seems to be particularly stark in children age 5 to 11.\",\n",
    "             \"While the original clinical trial data released in November reported an efficacy of 90.7 percent against infection, a report published on April 26 by the Centers for Disease Control and Prevention found that two doses of the Pfizer vaccine were only 31 percent effective at preventing omicron infection in 5- to 11-year-olds.\",\n",
    "             \"In another study, which has not yet been peer-reviewed, the New York State Department of Health found that effectiveness against omicron infection absolutely tanked in this age group — down to just 12 percent. \"]"
   ],
   "metadata": {
    "collapsed": false,
    "pycharm": {
     "name": "#%%\n"
    }
   }
  },
  {
   "cell_type": "markdown",
   "source": [
    "----"
   ],
   "metadata": {
    "collapsed": false,
    "pycharm": {
     "name": "#%% md\n"
    }
   }
  },
  {
   "cell_type": "markdown",
   "source": [
    "### Unconstrained Generation"
   ],
   "metadata": {
    "collapsed": false,
    "pycharm": {
     "name": "#%% md\n"
    }
   }
  },
  {
   "cell_type": "code",
   "execution_count": null,
   "outputs": [],
   "source": [
    "override_models_default_hf_generation_parameters = {\n",
    "    \"num_beams\": 10,\n",
    "    \"num_return_sequences\": 2,\n",
    "    \"return_dict_in_generate\": True,\n",
    "    \"output_scores\": True,\n",
    "    \"seed\": 123\n",
    "}\n",
    "\n",
    "output = model.sample(sentences, \n",
    "                      **override_models_default_hf_generation_parameters)\n",
    "\n",
    "output"
   ],
   "metadata": {
    "collapsed": false,
    "pycharm": {
     "name": "#%%\n"
    }
   }
  },
  {
   "cell_type": "markdown",
   "source": [
    "### Constrainted Generation"
   ],
   "metadata": {
    "collapsed": false,
    "pycharm": {
     "name": "#%% md\n"
    }
   }
  },
  {
   "cell_type": "markdown",
   "source": [
    "To constrain the generation, set the `entity_trie` and the `relation_trie` arguments of the sample to the entity and relation trie,"
   ],
   "metadata": {
    "collapsed": false,
    "pycharm": {
     "name": "#%% md\n"
    }
   }
  },
  {
   "cell_type": "markdown",
   "source": [
    "#### Small Schema Constrainted Generation"
   ],
   "metadata": {
    "collapsed": false,
    "pycharm": {
     "name": "#%% md\n"
    }
   }
  },
  {
   "cell_type": "code",
   "execution_count": null,
   "outputs": [],
   "source": [
    "\"\"\"Small Schema Constrainted Generation\"\"\"\n",
    "\n",
    "override_models_default_hf_generation_parameters = {\n",
    "    \"num_beams\": 10,\n",
    "    \"num_return_sequences\": 2,\n",
    "    \"return_dict_in_generate\": True,\n",
    "    \"output_scores\": True,\n",
    "    \"seed\": 123\n",
    "}\n",
    "\n",
    "output = model.sample(sentences, \n",
    "                      **small_schema_tries, \n",
    "                      **override_models_default_hf_generation_parameters)\n",
    "\n",
    "output"
   ],
   "metadata": {
    "collapsed": false,
    "pycharm": {
     "name": "#%%\n"
    }
   }
  },
  {
   "cell_type": "markdown",
   "source": [
    "#### Large Schema Constrainted Generation"
   ],
   "metadata": {
    "collapsed": false,
    "pycharm": {
     "name": "#%% md\n"
    }
   }
  },
  {
   "cell_type": "code",
   "execution_count": null,
   "outputs": [],
   "source": [
    "\"\"\"Large Schema Constrainted Generation\"\"\"\n",
    "\n",
    "override_models_default_hf_generation_parameters = {\n",
    "    \"num_beams\": 10,\n",
    "    \"num_return_sequences\": 2,\n",
    "    \"return_dict_in_generate\": True,\n",
    "    \"output_scores\": True,\n",
    "    \"seed\": 123\n",
    "}\n",
    "\n",
    "output = model.sample(sentences,\n",
    "                      **large_schema_tries, \n",
    "                      **override_models_default_hf_generation_parameters)\n",
    "\n",
    "output"
   ],
   "metadata": {
    "collapsed": false,
    "pycharm": {
     "name": "#%%\n"
    }
   }
  },
  {
   "cell_type": "markdown",
   "source": [
    "----"
   ],
   "metadata": {
    "collapsed": false,
    "pycharm": {
     "name": "#%% md\n"
    }
   }
  }
 ],
 "metadata": {
  "kernelspec": {
   "display_name": "genie",
   "language": "python",
   "name": "genie"
  },
  "language_info": {
   "codemirror_mode": {
    "name": "ipython",
    "version": 3
   },
   "file_extension": ".py",
   "mimetype": "text/x-python",
   "name": "python",
   "nbconvert_exporter": "python",
   "pygments_lexer": "ipython3",
   "version": "3.8.13"
  }
 },
 "nbformat": 4,
 "nbformat_minor": 5
}